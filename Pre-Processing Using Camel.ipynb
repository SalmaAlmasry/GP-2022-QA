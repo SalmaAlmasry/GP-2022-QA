{
 "cells": [
  {
   "cell_type": "markdown",
   "id": "cac963d5",
   "metadata": {},
   "source": [
    "# Preprocessing our demo data"
   ]
  },
  {
   "cell_type": "code",
   "execution_count": 10,
   "id": "5d1bb196",
   "metadata": {},
   "outputs": [],
   "source": [
    "# -*- coding: utf-8 -*- #to be able to process arabic\n",
    "import pandas as pd\n",
    "import re\n",
    "from camel_tools.utils.dediac import dediac_ar\n",
    "from camel_tools.utils.charsets import AR_LETTERS_CHARSET\n",
    "from camel_tools.utils.normalize import normalize_alef_maksura_ar\n",
    "from camel_tools.utils.normalize import normalize_alef_ar\n",
    "from camel_tools.utils.normalize import normalize_teh_marbuta_ar\n",
    "from camel_tools.utils.normalize import normalize_unicode\n",
    "from camel_tools.tokenizers.word import simple_word_tokenize\n",
    "from camel_tools.morphology.database import MorphologyDB\n",
    "from camel_tools.morphology.analyzer import Analyzer\n",
    "from camel_tools.disambig.mle import MLEDisambiguator\n",
    "mle_pretrained = MLEDisambiguator.pretrained()"
   ]
  },
  {
   "cell_type": "markdown",
   "id": "e694ab3e",
   "metadata": {},
   "source": [
    "First, let's load our data and investigate it."
   ]
  },
  {
   "cell_type": "code",
   "execution_count": 2,
   "id": "93c0acbd",
   "metadata": {},
   "outputs": [
    {
     "data": {
      "text/html": [
       "<div>\n",
       "<style scoped>\n",
       "    .dataframe tbody tr th:only-of-type {\n",
       "        vertical-align: middle;\n",
       "    }\n",
       "\n",
       "    .dataframe tbody tr th {\n",
       "        vertical-align: top;\n",
       "    }\n",
       "\n",
       "    .dataframe thead th {\n",
       "        text-align: right;\n",
       "    }\n",
       "</style>\n",
       "<table border=\"1\" class=\"dataframe\">\n",
       "  <thead>\n",
       "    <tr style=\"text-align: right;\">\n",
       "      <th></th>\n",
       "      <th>Q_</th>\n",
       "      <th>A_</th>\n",
       "    </tr>\n",
       "  </thead>\n",
       "  <tbody>\n",
       "    <tr>\n",
       "      <th>0</th>\n",
       "      <td>ايه هي الأنشطة التجارية اللي بتحتاج تصريح</td>\n",
       "      <td>1- تطوير وإنتاج وبيع أجهزة تشفير البيانات؛\\n2-...</td>\n",
       "    </tr>\n",
       "    <tr>\n",
       "      <th>1</th>\n",
       "      <td>\\nبنسجل الشركة فين؟</td>\n",
       "      <td>التسجيل بيبقى في مكتب السجل التجاري حسب الموقع...</td>\n",
       "    </tr>\n",
       "    <tr>\n",
       "      <th>2</th>\n",
       "      <td>لازم يكون شركتي ليها مقر؟</td>\n",
       "      <td>القانون الزم مؤسس الشركة انو يكون في مقر للشرك...</td>\n",
       "    </tr>\n",
       "    <tr>\n",
       "      <th>3</th>\n",
       "      <td>\\nاعرف ازاي اسم شركتي مستخدم قبل كده ولا لا؟</td>\n",
       "      <td>في شهادة اسمها ” شهادة عدم الالتباس” بيتم استخ...</td>\n",
       "    </tr>\n",
       "    <tr>\n",
       "      <th>4</th>\n",
       "      <td>\\nيعني أيه شركة ذات مسئولية محدودة؟</td>\n",
       "      <td>الشركات ذات المسئولية المحدودة:\\n\\nهي شركة عدد...</td>\n",
       "    </tr>\n",
       "  </tbody>\n",
       "</table>\n",
       "</div>"
      ],
      "text/plain": [
       "                                             Q_  \\\n",
       "0     ايه هي الأنشطة التجارية اللي بتحتاج تصريح   \n",
       "1                           \\nبنسجل الشركة فين؟   \n",
       "2                     لازم يكون شركتي ليها مقر؟   \n",
       "3  \\nاعرف ازاي اسم شركتي مستخدم قبل كده ولا لا؟   \n",
       "4           \\nيعني أيه شركة ذات مسئولية محدودة؟   \n",
       "\n",
       "                                                  A_  \n",
       "0  1- تطوير وإنتاج وبيع أجهزة تشفير البيانات؛\\n2-...  \n",
       "1  التسجيل بيبقى في مكتب السجل التجاري حسب الموقع...  \n",
       "2  القانون الزم مؤسس الشركة انو يكون في مقر للشرك...  \n",
       "3  في شهادة اسمها ” شهادة عدم الالتباس” بيتم استخ...  \n",
       "4  الشركات ذات المسئولية المحدودة:\\n\\nهي شركة عدد...  "
      ]
     },
     "execution_count": 2,
     "metadata": {},
     "output_type": "execute_result"
    }
   ],
   "source": [
    "data = pd.read_csv(\"Data\\QA.csv\")\n",
    "data.head()"
   ]
  },
  {
   "cell_type": "code",
   "execution_count": 3,
   "id": "6b1e86e6",
   "metadata": {},
   "outputs": [
    {
     "name": "stdout",
     "output_type": "stream",
     "text": [
      "['،', 'ء', 'ءَ', 'آ', 'آب', 'آذار', 'آض', 'آل', 'آمينَ', 'آناء', 'آنفا', 'آه', 'آهاً', 'آهٍ', 'آهِ', 'أ', 'أبدا', 'أبريل', 'أبو', 'أبٌ', 'أجل', 'أجمع', 'أحد', 'أخبر', 'أخذ', 'أخو', 'أخٌ', 'أربع', 'أربعاء', 'أربعة', 'أربعمئة', 'أربعمائة', 'أرى', 'أسكن', 'أصبح', 'أصلا', 'أضحى', 'أطعم', 'أعطى', 'أعلم', 'أغسطس', 'أفريل', 'أفعل به', 'أفٍّ', 'أقبل', 'أكتوبر', 'أل', 'ألا', 'ألف', 'ألفى', 'أم', 'أما', 'أمام', 'أمامك', 'أمامكَ', 'أمد', 'أمس', 'أمسى', 'أمّا', 'أن', 'أنا', 'أنبأ', 'أنت', 'أنتم', 'أنتما', 'أنتن', 'أنتِ', 'أنشأ', 'أنه', 'أنًّ', 'أنّى', 'أهلا', 'أو', 'أوت', 'أوشك', 'أول', 'أولئك', 'أولاء', 'أولالك', 'أوّهْ', 'أى', 'أي', 'أيا', 'أيار', 'أيضا', 'أيلول', 'أين', 'أيّ', 'أيّان', 'أُفٍّ', 'ؤ', 'إحدى', 'إذ', 'إذا', 'إذاً', 'إذما', 'إذن', 'إزاء', 'إلى', 'إلي', 'إليكم', 'إليكما', 'إليكنّ', 'إليكَ', 'إلَيْكَ', 'إلّا', 'إمّا', 'إن', 'إنَّ', 'إى', 'إياك', 'إياكم', 'إياكما', 'إياكن', 'إيانا', 'إياه', 'إياها', 'إياهم', 'إياهما', 'إياهن', 'إياي', 'إيهٍ', 'ئ', 'ا', 'ا?', 'ا?ى', 'االا', 'االتى', 'ابتدأ', 'ابين', 'اتخذ', 'اثر', 'اثنا', 'اثنان', 'اثني', 'اثنين', 'اجل', 'احد', 'اخرى', 'اخلولق', 'اذا', 'اربعة', 'اربعون', 'اربعين', 'ارتدّ', 'استحال', 'اصبح', 'اضحى', 'اطار', 'اعادة', 'اعلنت', 'اف', 'اكثر', 'اكد', 'الآن', 'الألاء', 'الألى', 'الا', 'الاخيرة', 'الان', 'الاول', 'الاولى', 'التى', 'التي', 'الثاني', 'الثانية', 'الحالي', 'الذاتي', 'الذى', 'الذي', 'الذين', 'السابق', 'الف', 'اللاتي', 'اللتان', 'اللتيا', 'اللتين', 'اللذان', 'اللذين', 'اللواتي', 'الماضي', 'المقبل', 'الوقت', 'الى', 'الي', 'اليه', 'اليها', 'اليوم', 'اما', 'امام', 'امس', 'امسى', 'ان', 'انبرى', 'انقلب', 'انه', 'انها', 'او', 'اول', 'اي', 'ايار', 'ايام', 'ايضا', 'ب', 'بؤسا', 'بإن', 'بئس', 'باء', 'بات', 'باسم', 'بان', 'بخٍ', 'بد', 'بدلا', 'برس', 'بسبب', 'بسّ', 'بشكل', 'بضع', 'بطآن', 'بعد', 'بعدا', 'بعض', 'بغتة', 'بل', 'بلى', 'بن', 'به', 'بها', 'بهذا', 'بيد', 'بين', 'بَسْ', 'بَلْهَ', 'ة', 'ت', 'تاء', 'تارة', 'تاسع', 'تانِ', 'تانِك', 'تبدّل', 'تجاه', 'تحت', 'تحوّل', 'تخذ', 'ترك', 'تسع', 'تسعة', 'تسعمئة', 'تسعمائة', 'تسعون', 'تسعين', 'تشرين', 'تعسا', 'تعلَّم', 'تفعلان', 'تفعلون', 'تفعلين', 'تكون', 'تلقاء', 'تلك', 'تم', 'تموز', 'تينك', 'تَيْنِ', 'تِه', 'تِي', 'ث', 'ثاء', 'ثالث', 'ثامن', 'ثان', 'ثاني', 'ثلاث', 'ثلاثاء', 'ثلاثة', 'ثلاثمئة', 'ثلاثمائة', 'ثلاثون', 'ثلاثين', 'ثم', 'ثمان', 'ثمانمئة', 'ثمانون', 'ثماني', 'ثمانية', 'ثمانين', 'ثمنمئة', 'ثمَّ', 'ثمّ', 'ثمّة', 'ج', 'جانفي', 'جدا', 'جعل', 'جلل', 'جمعة', 'جميع', 'جنيه', 'جوان', 'جويلية', 'جير', 'جيم', 'ح', 'حاء', 'حادي', 'حار', 'حاشا', 'حاليا', 'حاي', 'حبذا', 'حبيب', 'حتى', 'حجا', 'حدَث', 'حرى', 'حزيران', 'حسب', 'حقا', 'حمدا', 'حمو', 'حمٌ', 'حوالى', 'حول', 'حيث', 'حيثما', 'حين', 'حيَّ', 'حَذارِ', 'خ', 'خاء', 'خاصة', 'خال', 'خامس', 'خبَّر', 'خلا', 'خلافا', 'خلال', 'خلف', 'خمس', 'خمسة', 'خمسمئة', 'خمسمائة', 'خمسون', 'خمسين', 'خميس', 'د', 'دال', 'درهم', 'درى', 'دواليك', 'دولار', 'دون', 'دونك', 'ديسمبر', 'دينار', 'ذ', 'ذا', 'ذات', 'ذاك', 'ذال', 'ذانك', 'ذانِ', 'ذلك', 'ذهب', 'ذو', 'ذيت', 'ذينك', 'ذَيْنِ', 'ذِه', 'ذِي', 'ر', 'رأى', 'راء', 'رابع', 'راح', 'رجع', 'رزق', 'رويدك', 'ريال', 'ريث', 'رُبَّ', 'ز', 'زاي', 'زعم', 'زود', 'زيارة', 'س', 'ساء', 'سابع', 'سادس', 'سبت', 'سبتمبر', 'سبحان', 'سبع', 'سبعة', 'سبعمئة', 'سبعمائة', 'سبعون', 'سبعين', 'ست', 'ستة', 'ستكون', 'ستمئة', 'ستمائة', 'ستون', 'ستين', 'سحقا', 'سرا', 'سرعان', 'سقى', 'سمعا', 'سنة', 'سنتيم', 'سنوات', 'سوف', 'سوى', 'سين', 'ش', 'شباط', 'شبه', 'شتانَ', 'شخصا', 'شرع', 'شمال', 'شيكل', 'شين', 'شَتَّانَ', 'ص', 'صاد', 'صار', 'صباح', 'صبر', 'صبرا', 'صدقا', 'صراحة', 'صفر', 'صهٍ', 'صهْ', 'ض', 'ضاد', 'ضحوة', 'ضد', 'ضمن', 'ط', 'طاء', 'طاق', 'طالما', 'طرا', 'طفق', 'طَق', 'ظ', 'ظاء', 'ظل', 'ظلّ', 'ظنَّ', 'ع', 'عاد', 'عاشر', 'عام', 'عاما', 'عامة', 'عجبا', 'عدا', 'عدة', 'عدد', 'عدم', 'عدَّ', 'عسى', 'عشر', 'عشرة', 'عشرون', 'عشرين', 'عل', 'علق', 'علم', 'على', 'علي', 'عليك', 'عليه', 'عليها', 'علًّ', 'عن', 'عند', 'عندما', 'عنه', 'عنها', 'عوض', 'عيانا', 'عين', 'عَدَسْ', 'غ', 'غادر', 'غالبا', 'غدا', 'غداة', 'غير', 'غين', 'ـ', 'ف', 'فإن', 'فاء', 'فان', 'فانه', 'فبراير', 'فرادى', 'فضلا', 'فقد', 'فقط', 'فكان', 'فلان', 'فلس', 'فهو', 'فو', 'فوق', 'فى', 'في', 'فيفري', 'فيه', 'فيها', 'ق', 'قاطبة', 'قاف', 'قال', 'قام', 'قبل', 'قد', 'قرش', 'قطّ', 'قلما', 'قوة', 'ك', 'كأن', 'كأنّ', 'كأيّ', 'كأيّن', 'كاد', 'كاف', 'كان', 'كانت', 'كانون', 'كثيرا', 'كذا', 'كذلك', 'كرب', 'كسا', 'كل', 'كلتا', 'كلم', 'كلَّا', 'كلّما', 'كم', 'كما', 'كن', 'كى', 'كيت', 'كيف', 'كيفما', 'كِخ', 'ل', 'لأن', 'لا', 'لا سيما', 'لات', 'لازال', 'لاسيما', 'لام', 'لايزال', 'لبيك', 'لدن', 'لدى', 'لدي', 'لذلك', 'لعل', 'لعلَّ', 'لعمر', 'لقاء', 'لكن', 'لكنه', 'لكنَّ', 'للامم', 'لم', 'لما', 'لمّا', 'لن', 'له', 'لها', 'لهذا', 'لهم', 'لو', 'لوكالة', 'لولا', 'لوما', 'ليت', 'ليرة', 'ليس', 'ليسب', 'م', 'مئة', 'مئتان', 'ما', 'ما أفعله', 'ما انفك', 'ما برح', 'مائة', 'ماانفك', 'مابرح', 'مادام', 'ماذا', 'مارس', 'مازال', 'مافتئ', 'ماي', 'مايزال', 'مايو', 'متى', 'مثل', 'مذ', 'مرّة', 'مساء', 'مع', 'معاذ', 'معه', 'معها', 'مقابل', 'مكانكم', 'مكانكما', 'مكانكنّ', 'مكانَك', 'مليار', 'مليم', 'مليون', 'مما', 'من', 'منذ', 'منه', 'منها', 'مه', 'مهما', 'ميم', 'ن', 'نا', 'نبَّا', 'نحن', 'نحو', 'نعم', 'نفس', 'نفسه', 'نهاية', 'نوفمبر', 'نون', 'نيسان', 'نيف', 'نَخْ', 'نَّ', 'ه', 'هؤلاء', 'ها', 'هاء', 'هاكَ', 'هبّ', 'هذا', 'هذه', 'هل', 'هللة', 'هلم', 'هلّا', 'هم', 'هما', 'همزة', 'هن', 'هنا', 'هناك', 'هنالك', 'هو', 'هي', 'هيا', 'هيهات', 'هيّا', 'هَؤلاء', 'هَاتانِ', 'هَاتَيْنِ', 'هَاتِه', 'هَاتِي', 'هَجْ', 'هَذا', 'هَذانِ', 'هَذَيْنِ', 'هَذِه', 'هَذِي', 'هَيْهات', 'و', 'و6', 'وأبو', 'وأن', 'وا', 'واحد', 'واضاف', 'واضافت', 'واكد', 'والتي', 'والذي', 'وان', 'واهاً', 'واو', 'واوضح', 'وبين', 'وثي', 'وجد', 'وراءَك', 'ورد', 'وعلى', 'وفي', 'وقال', 'وقالت', 'وقد', 'وقف', 'وكان', 'وكانت', 'ولا', 'ولايزال', 'ولكن', 'ولم', 'وله', 'وليس', 'ومع', 'ومن', 'وهب', 'وهذا', 'وهو', 'وهي', 'وَيْ', 'وُشْكَانَ', 'ى', 'ي', 'ياء', 'يفعلان', 'يفعلون', 'يكون', 'يلي', 'يمكن', 'يمين', 'ين', 'يناير', 'يوان', 'يورو', 'يوليو', 'يوم', 'يونيو', 'ّأيّان']\n",
      "<class 'list'>\n"
     ]
    }
   ],
   "source": [
    "stopwords = []\n",
    "with open('Data/arabic-stop-words-master/list.txt', encoding='utf8') as file:\n",
    "    for line in file:\n",
    "        stopwords.append(line.strip())\n",
    "print(stopwords)\n",
    "print(type(stopwords))   "
   ]
  },
  {
   "cell_type": "code",
   "execution_count": 4,
   "id": "a676eb20",
   "metadata": {},
   "outputs": [
    {
     "data": {
      "text/plain": [
       "'1- تطوير وإنتاج وبيع أجهزة تشفير البيانات؛\\n2- إنشاء وتصميم وإصلاح والتخلص في صناعة الطيران؛\\n3- صنع الأسلحة، المتفجرات، والأجهزة الكيميائية.\\n4- إطفاء الحرائق الصناعية في الطبيعة، في المباني السكنية والصناعية، إذا كان هذا لا ينطبق على المساعدة الطوعية\\n5- صيانة معدات السلامة من الحرائق.\\n6- تصنيع الأدوية والمؤثرات العقلية والمخدرات والمشروبات الكحولية لخدمة المعدات الطبية؛\\nالهندسة الوراثية، واستخدام الفيروسات التي تؤثر على كائن حي.\\n7- نقل الأشخاص والبضائع وتحميل وتفريغ المواد الخطرة والسحب؛\\n8- نقل الأشخاص، إذا كان هناك أكثر من 8 ركاب؛\\n9- التخلص من المواد الخطرة على النفايات المحيطة وتخزينها؛\\n10- تنظيم المقامرة\\n11- حماية الأجسام\\n12- معالجة وتخزين وبيع المعادن الحديدية وغير الحديدية؛\\n13- توفير الاتصالات؛\\n14- تطوير لمبيعات البرمجيات ومنتجات الفيديو؛\\n15- التعليم؛\\n16-استكشاف الفضاء.\\n17- البحث عن الموارد الطبيعية، واستكشاف الأراضي لهذا الغرض؛\\n18- العلاج؛\\n19- جمع القطع الأثرية في محلات الرهونات؛\\n20- أنشطة الخبراء في الصناعة؛\\n21- العمل مع المتفجرات.'"
      ]
     },
     "execution_count": 4,
     "metadata": {},
     "output_type": "execute_result"
    }
   ],
   "source": [
    "data.iloc[0][1]"
   ]
  },
  {
   "cell_type": "code",
   "execution_count": 5,
   "id": "720a003a",
   "metadata": {
    "scrolled": true
   },
   "outputs": [
    {
     "data": {
      "text/plain": [
       "(24, 2)"
      ]
     },
     "execution_count": 5,
     "metadata": {},
     "output_type": "execute_result"
    }
   ],
   "source": [
    "data.shape"
   ]
  },
  {
   "cell_type": "code",
   "execution_count": 6,
   "id": "4658f653",
   "metadata": {},
   "outputs": [
    {
     "name": "stdout",
     "output_type": "stream",
     "text": [
      "<class 'pandas.core.frame.DataFrame'>\n",
      "RangeIndex: 24 entries, 0 to 23\n",
      "Data columns (total 2 columns):\n",
      " #   Column  Non-Null Count  Dtype \n",
      "---  ------  --------------  ----- \n",
      " 0   Q_      23 non-null     object\n",
      " 1   A_      23 non-null     object\n",
      "dtypes: object(2)\n",
      "memory usage: 512.0+ bytes\n"
     ]
    }
   ],
   "source": [
    "data.info()"
   ]
  },
  {
   "cell_type": "markdown",
   "id": "28b06b90",
   "metadata": {},
   "source": [
    "### 1) Cleaning our data: \n",
    "- Remove URLS\n",
    "- Mentions\n",
    "- Emotions\n",
    "- Symbols\n",
    "- Diacritical marks\n",
    "- Shapes\n",
    "- Unwanted Punctuation (basicly anything that is not an arabic word or a number)."
   ]
  },
  {
   "cell_type": "code",
   "execution_count": 7,
   "id": "3ea617c3",
   "metadata": {},
   "outputs": [],
   "source": [
    "def clean_text(text):\n",
    "    sentence_ar_dediac = dediac_ar(text) #dediacritization using camel tools\n",
    "    sentence_ar_dediac = re.sub(r\"\\S*https?:\\S*|@\\S+\", \"\", sentence_ar_dediac) #remove URLs and mentions even if they are in paranthesis or brackets\n",
    "    no_punc = \"\"\n",
    "    for char in sentence_ar_dediac:\n",
    "        if char in (list(AR_LETTERS_CHARSET)+[\" \"]): #removing any thing that is not an arabic letter\n",
    "            no_punc = no_punc + char\n",
    "    return no_punc"
   ]
  },
  {
   "cell_type": "markdown",
   "id": "5188f7a5",
   "metadata": {},
   "source": [
    "After Cleaning,\n",
    "### 2) Normalizing our data\n",
    "- Orthographic Normalization\n",
    "- Unicode Normalization"
   ]
  },
  {
   "cell_type": "code",
   "execution_count": 8,
   "id": "2d0c4ffa",
   "metadata": {},
   "outputs": [],
   "source": [
    "def normalize_text(text):\n",
    "    cleaned_text = normalize_alef_maksura_ar(text)\n",
    "    cleaned_text = normalize_alef_ar(cleaned_text)\n",
    "    cleaned_text = normalize_teh_marbuta_ar(cleaned_text)\n",
    "    cleaned_text = normalize_unicode(cleaned_text)\n",
    "    \n",
    "    return cleaned_text"
   ]
  },
  {
   "cell_type": "markdown",
   "id": "bc34a996",
   "metadata": {},
   "source": [
    "### 3) Data Enrichement\n",
    "- Tokenization\n",
    "- Removing stop words\n",
    "- Morphology Analysis\n",
    "- Lemmatization"
   ]
  },
  {
   "cell_type": "code",
   "execution_count": 11,
   "id": "a8fdba15",
   "metadata": {},
   "outputs": [],
   "source": [
    "def enrichement(text, stopwords=stopwords, mle_pretrained=mle_pretrained):\n",
    "    tokens = simple_word_tokenize(text)\n",
    "    tokenized = []\n",
    "    for token in tokens:\n",
    "        if token not in stopwords:\n",
    "            tokenized.append(token)     \n",
    "    disambig = mle_pretrained.disambiguate(tokenized)\n",
    "    lemmas = [d.analyses[0].analysis['lex'] for d in disambig]\n",
    "    return lemmas"
   ]
  },
  {
   "cell_type": "code",
   "execution_count": 12,
   "id": "7523bd16",
   "metadata": {},
   "outputs": [],
   "source": [
    "def preprocess_text(text, clean_text=clean_text, normalize_text=normalize_text, enrichement=enrichement):\n",
    "    '''\n",
    "    Inputs:\n",
    "    text: string in which it will preprocess.\n",
    "    \n",
    "    Outputs:\n",
    "    cleaned_text: the string after it was processed.\n",
    "    '''\n",
    "    \n",
    "    #let's first start with cleaning \n",
    "    cleaned = clean_text(text)\n",
    "            \n",
    "    # now, for the normalization part\n",
    "    normalized = normalize_text(cleaned)\n",
    "    \n",
    "    #enrichement\n",
    "    enriched = enrichement(normalized)\n",
    "    \n",
    "    return enriched"
   ]
  },
  {
   "cell_type": "code",
   "execution_count": 13,
   "id": "19a26a92",
   "metadata": {},
   "outputs": [],
   "source": [
    "def preprocess_data(data, preprocess_text=preprocess_text):\n",
    "    '''\n",
    "    Inputs:\n",
    "    data: is the dataframe we want to apply our function on\n",
    "    \n",
    "    Outputs:\n",
    "    data: the dataframe after applying the cleaning and normalization on each cell.\n",
    "    \n",
    "    '''\n",
    "    for row in range(data.shape[0]):\n",
    "        for column in range(data.shape[1]):\n",
    "            for_cleaning = str(data.iloc[row][column])\n",
    "            data.iloc[row][column] = preprocess_text(for_cleaning)\n",
    "    return data\n",
    "    "
   ]
  },
  {
   "cell_type": "code",
   "execution_count": 14,
   "id": "5b0fab31",
   "metadata": {},
   "outputs": [
    {
     "data": {
      "text/html": [
       "<div>\n",
       "<style scoped>\n",
       "    .dataframe tbody tr th:only-of-type {\n",
       "        vertical-align: middle;\n",
       "    }\n",
       "\n",
       "    .dataframe tbody tr th {\n",
       "        vertical-align: top;\n",
       "    }\n",
       "\n",
       "    .dataframe thead th {\n",
       "        text-align: right;\n",
       "    }\n",
       "</style>\n",
       "<table border=\"1\" class=\"dataframe\">\n",
       "  <thead>\n",
       "    <tr style=\"text-align: right;\">\n",
       "      <th></th>\n",
       "      <th>Q_</th>\n",
       "      <th>A_</th>\n",
       "    </tr>\n",
       "  </thead>\n",
       "  <tbody>\n",
       "    <tr>\n",
       "      <th>0</th>\n",
       "      <td>[إِيه, نَشاط, تِجارِيّ, لَيّ, بتحتاج, تَصْرِيح]</td>\n",
       "      <td>[تَطْوِير, إِنْتاج, بيع, جِهاز, تشفير, بَيان, ...</td>\n",
       "    </tr>\n",
       "    <tr>\n",
       "      <th>1</th>\n",
       "      <td>[بنسجل, شَرِكَة, يِن]</td>\n",
       "      <td>[تَسْجِيل, بيبقي, مَكْتَب, سِجِلّ, تِجارِيّ, م...</td>\n",
       "    </tr>\n",
       "    <tr>\n",
       "      <th>2</th>\n",
       "      <td>[لازِم, شَرِكَة, لَيّ, مَقَرّ]</td>\n",
       "      <td>[قانُون, لَزِم, مُؤَسِّس, شَرِكَة, نَوَى, مَقَ...</td>\n",
       "    </tr>\n",
       "    <tr>\n",
       "      <th>3</th>\n",
       "      <td>[عَرَف, ازاي, ٱِسْم, شَرِكَة, مُسْتَخْدَم, كَدّ]</td>\n",
       "      <td>[شَهادَة, ٱِسْم, شَهادَة, ٱِلْتِباس, بَيَّت, ٱ...</td>\n",
       "    </tr>\n",
       "    <tr>\n",
       "      <th>4</th>\n",
       "      <td>[عَنَى, إِيه, شَرِكَة, مَسْؤُول, مَحْدُود]</td>\n",
       "      <td>[شَرِكَة, مَسْؤُولِيَّة, المحدودههي, شَرِكَة, ...</td>\n",
       "    </tr>\n",
       "  </tbody>\n",
       "</table>\n",
       "</div>"
      ],
      "text/plain": [
       "                                                 Q_  \\\n",
       "0   [إِيه, نَشاط, تِجارِيّ, لَيّ, بتحتاج, تَصْرِيح]   \n",
       "1                             [بنسجل, شَرِكَة, يِن]   \n",
       "2                    [لازِم, شَرِكَة, لَيّ, مَقَرّ]   \n",
       "3  [عَرَف, ازاي, ٱِسْم, شَرِكَة, مُسْتَخْدَم, كَدّ]   \n",
       "4        [عَنَى, إِيه, شَرِكَة, مَسْؤُول, مَحْدُود]   \n",
       "\n",
       "                                                  A_  \n",
       "0  [تَطْوِير, إِنْتاج, بيع, جِهاز, تشفير, بَيان, ...  \n",
       "1  [تَسْجِيل, بيبقي, مَكْتَب, سِجِلّ, تِجارِيّ, م...  \n",
       "2  [قانُون, لَزِم, مُؤَسِّس, شَرِكَة, نَوَى, مَقَ...  \n",
       "3  [شَهادَة, ٱِسْم, شَهادَة, ٱِلْتِباس, بَيَّت, ٱ...  \n",
       "4  [شَرِكَة, مَسْؤُولِيَّة, المحدودههي, شَرِكَة, ...  "
      ]
     },
     "execution_count": 14,
     "metadata": {},
     "output_type": "execute_result"
    }
   ],
   "source": [
    "data = preprocess_data(data)\n",
    "data.head()"
   ]
  },
  {
   "cell_type": "code",
   "execution_count": 15,
   "id": "7a7b4376",
   "metadata": {},
   "outputs": [
    {
     "data": {
      "text/plain": [
       "['تَطْوِير',\n",
       " 'إِنْتاج',\n",
       " 'بيع',\n",
       " 'جِهاز',\n",
       " 'تشفير',\n",
       " 'بَيان',\n",
       " 'إِنْشاء',\n",
       " 'تَصْمِيم',\n",
       " 'إِصْلاح',\n",
       " 'تَخَلُّص',\n",
       " 'صِناعَة',\n",
       " 'طَيَران',\n",
       " 'صَنْع',\n",
       " 'سِلاح',\n",
       " 'مُتَفَجِّر',\n",
       " 'جِهاز',\n",
       " 'كِيمِيائِيّ',\n",
       " 'إِطْفاء',\n",
       " 'حَرِيق',\n",
       " 'صِناعِيّ',\n",
       " 'طَبِيعَة',\n",
       " 'مَبْنَى',\n",
       " 'سَكَنِيّ',\n",
       " 'صِناعِيّ',\n",
       " 'ٱِنْطَبَق',\n",
       " 'مُساعَدَة',\n",
       " 'طَوْعِيّ',\n",
       " 'صِيانَة',\n",
       " 'مُعَدّات',\n",
       " 'سَلامَة',\n",
       " 'حَرِيق',\n",
       " 'تَصْنِيع',\n",
       " 'دَواء',\n",
       " 'مُؤَثِّر',\n",
       " 'عَقْلِيَّة',\n",
       " 'مُخَدِّر',\n",
       " 'مَشْرُوب',\n",
       " 'كُحُولِيّ',\n",
       " 'خِدْمَة',\n",
       " 'مُعَدّات',\n",
       " 'الطبيهالهندسه',\n",
       " 'وِراثِيّ',\n",
       " 'ٱِسْتِخْدام',\n",
       " 'فَيْرُوس',\n",
       " 'أَثَّر',\n",
       " 'كائِن',\n",
       " 'حَيّ',\n",
       " 'نَقْل',\n",
       " 'شَخْص',\n",
       " 'بِضاعَة',\n",
       " 'تَحْمِيل',\n",
       " 'تَفْرِيغ',\n",
       " 'مادَّة',\n",
       " 'خَطِر',\n",
       " 'سَحْب',\n",
       " 'نَقْل',\n",
       " 'شَخْص',\n",
       " 'راكِب',\n",
       " 'تَخَلُّص',\n",
       " 'مادَّة',\n",
       " 'خَطِر',\n",
       " 'نُفايَة',\n",
       " 'مُحِيط',\n",
       " 'تَخْزِين',\n",
       " 'تَنْظِيم',\n",
       " 'مُقامَرَة',\n",
       " 'حِمايَة',\n",
       " 'جِسْم',\n",
       " 'مُعالَجَة',\n",
       " 'تَخْزِين',\n",
       " 'بيع',\n",
       " 'مَعادِن',\n",
       " 'حَدِيدِيّ',\n",
       " 'غَيْر',\n",
       " 'حَدِيدِيّ',\n",
       " 'تَوْفِير',\n",
       " 'ٱِتِّصال',\n",
       " 'تَطْوِير',\n",
       " 'مَبِيع',\n",
       " 'بَرْمَجِيّات',\n",
       " 'مُنْتَج',\n",
       " 'فِيدْيُو',\n",
       " 'التعليماستكشاف',\n",
       " 'فَضاء',\n",
       " 'بَحْث',\n",
       " 'مَوْرِد',\n",
       " 'طَبِيعِيّ',\n",
       " 'ٱِسْتِكْشاف',\n",
       " 'أَرْض',\n",
       " 'غَرَض',\n",
       " 'عِلاج',\n",
       " 'جَمْع',\n",
       " 'قِطْعَة',\n",
       " 'أَثَرِيّ',\n",
       " 'مَحَلّ',\n",
       " 'رَهْن',\n",
       " 'نَشاط',\n",
       " 'خَبِير',\n",
       " 'صِناعَة',\n",
       " 'عَمَل',\n",
       " 'مُتَفَجِّر']"
      ]
     },
     "execution_count": 15,
     "metadata": {},
     "output_type": "execute_result"
    }
   ],
   "source": [
    "data.iloc[0][1]"
   ]
  },
  {
   "cell_type": "code",
   "execution_count": null,
   "id": "1397fb21",
   "metadata": {},
   "outputs": [],
   "source": []
  }
 ],
 "metadata": {
  "kernelspec": {
   "display_name": "Python 3 (ipykernel)",
   "language": "python",
   "name": "python3"
  },
  "language_info": {
   "codemirror_mode": {
    "name": "ipython",
    "version": 3
   },
   "file_extension": ".py",
   "mimetype": "text/x-python",
   "name": "python",
   "nbconvert_exporter": "python",
   "pygments_lexer": "ipython3",
   "version": "3.8.8"
  }
 },
 "nbformat": 4,
 "nbformat_minor": 5
}
