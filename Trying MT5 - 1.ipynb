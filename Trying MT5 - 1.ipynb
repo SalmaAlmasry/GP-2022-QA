{
 "cells": [
  {
   "cell_type": "code",
   "execution_count": 1,
   "id": "5c6c159a",
   "metadata": {},
   "outputs": [],
   "source": [
    "from transformers import AutoModelForCausalLM, AutoTokenizer, MT5ForConditionalGeneration, T5Tokenizer \n",
    "import torch"
   ]
  },
  {
   "cell_type": "code",
   "execution_count": 8,
   "id": "1fc65934",
   "metadata": {},
   "outputs": [],
   "source": [
    "device = torch.device('cuda' if torch.cuda.is_available() else 'cpu')\n",
    "tokenizer = T5Tokenizer.from_pretrained(\"google/mt5-base\")\n",
    "model = MT5ForConditionalGeneration.from_pretrained(\"google/mt5-base\").to(device)"
   ]
  },
  {
   "cell_type": "code",
   "execution_count": 17,
   "id": "be95104a",
   "metadata": {},
   "outputs": [],
   "source": [
    "def get_response(question, context, max_length=32):\n",
    "  input_text = 'question: %s  context: %s' % (question, context)\n",
    "  features = tokenizer([input_text], return_tensors='pt')\n",
    "\n",
    "  output = model.generate(input_ids=features['input_ids'].to(device), \n",
    "               attention_mask=features['attention_mask'].to(device),\n",
    "               max_length=max_length)\n",
    "\n",
    "  return tokenizer.decode(output[0], skip_special_tokens=True)"
   ]
  },
  {
   "cell_type": "code",
   "execution_count": 18,
   "id": "afc9156a",
   "metadata": {},
   "outputs": [
    {
     "data": {
      "text/plain": [
       "'<extra_id_0>'"
      ]
     },
     "execution_count": 18,
     "metadata": {},
     "output_type": "execute_result"
    }
   ],
   "source": [
    "# Some examples in different languages\n",
    "\n",
    "context = 'HuggingFace won the best Demo paper at EMNLP2020.'\n",
    "question = 'What won HuggingFace?'\n",
    "get_response(question, context)"
   ]
  },
  {
   "cell_type": "code",
   "execution_count": 19,
   "id": "75666050",
   "metadata": {},
   "outputs": [
    {
     "data": {
      "text/plain": [
       "'<extra_id_0>: HuggingFace'"
      ]
     },
     "execution_count": 19,
     "metadata": {},
     "output_type": "execute_result"
    }
   ],
   "source": [
    "context = 'HuggingFace ganó la mejor demostración con su paper en la EMNLP2020.'\n",
    "question = 'Qué ganó HuggingFace?'\n",
    "get_response(question, context)"
   ]
  },
  {
   "cell_type": "code",
   "execution_count": 20,
   "id": "6bb8d3f2",
   "metadata": {},
   "outputs": [
    {
     "data": {
      "text/plain": [
       "'<extra_id_0>? context: HuggingFace'"
      ]
     },
     "execution_count": 20,
     "metadata": {},
     "output_type": "execute_result"
    }
   ],
   "source": [
    "context = 'HuggingFace выиграл лучшую демонстрационную работу на EMNLP2020.'\n",
    "question = 'Что победило в HuggingFace?'\n",
    "get_response(question, context)"
   ]
  },
  {
   "cell_type": "code",
   "execution_count": null,
   "id": "59a22e1d",
   "metadata": {},
   "outputs": [],
   "source": []
  }
 ],
 "metadata": {
  "kernelspec": {
   "display_name": "Python 3 (ipykernel)",
   "language": "python",
   "name": "python3"
  },
  "language_info": {
   "codemirror_mode": {
    "name": "ipython",
    "version": 3
   },
   "file_extension": ".py",
   "mimetype": "text/x-python",
   "name": "python",
   "nbconvert_exporter": "python",
   "pygments_lexer": "ipython3",
   "version": "3.8.12"
  }
 },
 "nbformat": 4,
 "nbformat_minor": 5
}
